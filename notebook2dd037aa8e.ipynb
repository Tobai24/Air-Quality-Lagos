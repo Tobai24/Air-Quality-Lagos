{
 "cells": [
  {
   "cell_type": "code",
   "execution_count": 1,
   "id": "ef4603aa",
   "metadata": {
    "_cell_guid": "b1076dfc-b9ad-4769-8c92-a6c4dae69d19",
    "_uuid": "8f2839f25d086af736a60e9eeb907d3b93b6e0e5",
    "execution": {
     "iopub.execute_input": "2025-01-14T11:25:57.831483Z",
     "iopub.status.busy": "2025-01-14T11:25:57.831097Z",
     "iopub.status.idle": "2025-01-14T11:25:58.237284Z",
     "shell.execute_reply": "2025-01-14T11:25:58.235939Z"
    },
    "papermill": {
     "duration": 0.417342,
     "end_time": "2025-01-14T11:25:58.239484",
     "exception": false,
     "start_time": "2025-01-14T11:25:57.822142",
     "status": "completed"
    },
    "tags": []
   },
   "outputs": [
    {
     "name": "stdout",
     "output_type": "stream",
     "text": [
      "/kaggle/input/ml-zoomcamp-2024-competition/actual_matrix.csv\n",
      "/kaggle/input/ml-zoomcamp-2024-competition/discounts_history.csv\n",
      "/kaggle/input/ml-zoomcamp-2024-competition/price_history.csv\n",
      "/kaggle/input/ml-zoomcamp-2024-competition/sample_submission.csv\n",
      "/kaggle/input/ml-zoomcamp-2024-competition/catalog.csv\n",
      "/kaggle/input/ml-zoomcamp-2024-competition/markdowns.csv\n",
      "/kaggle/input/ml-zoomcamp-2024-competition/online.csv\n",
      "/kaggle/input/ml-zoomcamp-2024-competition/sales.csv\n",
      "/kaggle/input/ml-zoomcamp-2024-competition/stores.csv\n",
      "/kaggle/input/ml-zoomcamp-2024-competition/test.csv\n"
     ]
    }
   ],
   "source": [
    "# This Python 3 environment comes with many helpful analytics libraries installed\n",
    "# It is defined by the kaggle/python Docker image: https://github.com/kaggle/docker-python\n",
    "# For example, here's several helpful packages to load\n",
    "\n",
    "import numpy as np # linear algebra\n",
    "import pandas as pd # data processing, CSV file I/O (e.g. pd.read_csv)\n",
    "\n",
    "# Input data files are available in the read-only \"../input/\" directory\n",
    "# For example, running this (by clicking run or pressing Shift+Enter) will list all files under the input directory\n",
    "\n",
    "import os\n",
    "for dirname, _, filenames in os.walk('/kaggle/input'):\n",
    "    for filename in filenames:\n",
    "        print(os.path.join(dirname, filename))\n",
    "\n",
    "# You can write up to 20GB to the current directory (/kaggle/working/) that gets preserved as output when you create a version using \"Save & Run All\" \n",
    "# You can also write temporary files to /kaggle/temp/, but they won't be saved outside of the current session"
   ]
  },
  {
   "cell_type": "code",
   "execution_count": 2,
   "id": "4118c9bb",
   "metadata": {
    "execution": {
     "iopub.execute_input": "2025-01-14T11:25:58.255695Z",
     "iopub.status.busy": "2025-01-14T11:25:58.255192Z",
     "iopub.status.idle": "2025-01-14T11:25:58.497120Z",
     "shell.execute_reply": "2025-01-14T11:25:58.495757Z"
    },
    "papermill": {
     "duration": 0.252256,
     "end_time": "2025-01-14T11:25:58.499383",
     "exception": false,
     "start_time": "2025-01-14T11:25:58.247127",
     "status": "completed"
    },
    "tags": []
   },
   "outputs": [],
   "source": [
    "sample_submission = pd.read_csv(\"/kaggle/input/ml-zoomcamp-2024-competition/sample_submission.csv\")"
   ]
  },
  {
   "cell_type": "code",
   "execution_count": 3,
   "id": "e07cdc42",
   "metadata": {
    "execution": {
     "iopub.execute_input": "2025-01-14T11:25:58.515244Z",
     "iopub.status.busy": "2025-01-14T11:25:58.514888Z",
     "iopub.status.idle": "2025-01-14T11:25:58.532011Z",
     "shell.execute_reply": "2025-01-14T11:25:58.530893Z"
    },
    "papermill": {
     "duration": 0.026899,
     "end_time": "2025-01-14T11:25:58.533806",
     "exception": false,
     "start_time": "2025-01-14T11:25:58.506907",
     "status": "completed"
    },
    "tags": []
   },
   "outputs": [
    {
     "data": {
      "text/html": [
       "<div>\n",
       "<style scoped>\n",
       "    .dataframe tbody tr th:only-of-type {\n",
       "        vertical-align: middle;\n",
       "    }\n",
       "\n",
       "    .dataframe tbody tr th {\n",
       "        vertical-align: top;\n",
       "    }\n",
       "\n",
       "    .dataframe thead th {\n",
       "        text-align: right;\n",
       "    }\n",
       "</style>\n",
       "<table border=\"1\" class=\"dataframe\">\n",
       "  <thead>\n",
       "    <tr style=\"text-align: right;\">\n",
       "      <th></th>\n",
       "      <th>row_id</th>\n",
       "      <th>quantity</th>\n",
       "    </tr>\n",
       "  </thead>\n",
       "  <tbody>\n",
       "    <tr>\n",
       "      <th>0</th>\n",
       "      <td>0</td>\n",
       "      <td>0</td>\n",
       "    </tr>\n",
       "    <tr>\n",
       "      <th>1</th>\n",
       "      <td>1</td>\n",
       "      <td>0</td>\n",
       "    </tr>\n",
       "    <tr>\n",
       "      <th>2</th>\n",
       "      <td>2</td>\n",
       "      <td>0</td>\n",
       "    </tr>\n",
       "    <tr>\n",
       "      <th>3</th>\n",
       "      <td>3</td>\n",
       "      <td>0</td>\n",
       "    </tr>\n",
       "    <tr>\n",
       "      <th>4</th>\n",
       "      <td>4</td>\n",
       "      <td>0</td>\n",
       "    </tr>\n",
       "  </tbody>\n",
       "</table>\n",
       "</div>"
      ],
      "text/plain": [
       "   row_id  quantity\n",
       "0       0         0\n",
       "1       1         0\n",
       "2       2         0\n",
       "3       3         0\n",
       "4       4         0"
      ]
     },
     "execution_count": 3,
     "metadata": {},
     "output_type": "execute_result"
    }
   ],
   "source": [
    "sample_submission.head()"
   ]
  },
  {
   "cell_type": "code",
   "execution_count": 4,
   "id": "1c8f159d",
   "metadata": {
    "execution": {
     "iopub.execute_input": "2025-01-14T11:25:58.549728Z",
     "iopub.status.busy": "2025-01-14T11:25:58.549316Z",
     "iopub.status.idle": "2025-01-14T11:26:00.954472Z",
     "shell.execute_reply": "2025-01-14T11:26:00.953469Z"
    },
    "papermill": {
     "duration": 2.415497,
     "end_time": "2025-01-14T11:26:00.956764",
     "exception": false,
     "start_time": "2025-01-14T11:25:58.541267",
     "status": "completed"
    },
    "tags": []
   },
   "outputs": [],
   "source": [
    "import xgboost\n",
    "import optuna\n",
    "import seaborn as sns\n",
    "import matplotlib.pyplot as plt\n",
    "from sklearn.metrics import mean_squared_error\n",
    "from sklearn.model_selection import train_test_split"
   ]
  },
  {
   "cell_type": "code",
   "execution_count": 5,
   "id": "bd96c78a",
   "metadata": {
    "execution": {
     "iopub.execute_input": "2025-01-14T11:26:00.972738Z",
     "iopub.status.busy": "2025-01-14T11:26:00.972143Z",
     "iopub.status.idle": "2025-01-14T11:26:21.359331Z",
     "shell.execute_reply": "2025-01-14T11:26:21.358226Z"
    },
    "papermill": {
     "duration": 20.397229,
     "end_time": "2025-01-14T11:26:21.361420",
     "exception": false,
     "start_time": "2025-01-14T11:26:00.964191",
     "status": "completed"
    },
    "tags": []
   },
   "outputs": [],
   "source": [
    "sales = pd.read_csv(\"/kaggle/input/ml-zoomcamp-2024-competition/sales.csv\")\n",
    "online = pd.read_csv(\"/kaggle/input/ml-zoomcamp-2024-competition/online.csv\")\n",
    "markdown = pd.read_csv(\"/kaggle/input/ml-zoomcamp-2024-competition/markdowns.csv\")\n",
    "price_history = pd.read_csv(\"/kaggle/input/ml-zoomcamp-2024-competition/price_history.csv\")\n",
    "discount_history = pd.read_csv(\"/kaggle/input/ml-zoomcamp-2024-competition/discounts_history.csv\")\n",
    "actual_matrix = pd.read_csv(\"/kaggle/input/ml-zoomcamp-2024-competition/actual_matrix.csv\")\n",
    "catalog = pd.read_csv(\"/kaggle/input/ml-zoomcamp-2024-competition/catalog.csv\")\n",
    "stores = pd.read_csv(\"/kaggle/input/ml-zoomcamp-2024-competition/stores.csv\")"
   ]
  },
  {
   "cell_type": "code",
   "execution_count": 6,
   "id": "156e2ea9",
   "metadata": {
    "execution": {
     "iopub.execute_input": "2025-01-14T11:26:21.377528Z",
     "iopub.status.busy": "2025-01-14T11:26:21.377159Z",
     "iopub.status.idle": "2025-01-14T11:26:31.538701Z",
     "shell.execute_reply": "2025-01-14T11:26:31.537516Z"
    },
    "papermill": {
     "duration": 10.171774,
     "end_time": "2025-01-14T11:26:31.540608",
     "exception": false,
     "start_time": "2025-01-14T11:26:21.368834",
     "status": "completed"
    },
    "tags": []
   },
   "outputs": [],
   "source": [
    "# Merge sales and online data with suffixes to differentiate offline and online columns\n",
    "sales_online_merged = pd.merge(sales, online, on=[\"date\", \"item_id\", \"store_id\"], suffixes=('_offline', '_online'))\n",
    "\n",
    "# Merge with markdowns using 'left' join to keep all sales data\n",
    "sales_online_merged = pd.merge(sales_online_merged, markdown, on=[\"date\", \"item_id\", \"store_id\"], how=\"left\")\n",
    "\n",
    "# Merge with price_history using 'left' join to keep all previous data\n",
    "sales_online_merged = pd.merge(sales_online_merged, price_history, on=[\"date\", \"item_id\", \"store_id\"], how=\"left\")\n",
    "\n",
    "# Merge with discount_history using 'left' join to keep all previous data\n",
    "sales_online_merged = pd.merge(sales_online_merged, discount_history, on=[\"date\", \"item_id\", \"store_id\"], how=\"left\")\n",
    "\n",
    "# Merge with actual_matrix to add product availability data\n",
    "sales_online_merged = pd.merge(sales_online_merged, actual_matrix, on=[\"item_id\", \"store_id\"], how=\"left\", suffixes=('_sales', '_matrix'))\n",
    "\n",
    "# Merge with catalog to add product details\n",
    "sales_online_merged = pd.merge(sales_online_merged, catalog, on=\"item_id\", how=\"left\")\n",
    "\n",
    "# Final merge with stores to add store-specific information and add suffix for store columns\n",
    "final_merged = pd.merge(sales_online_merged, stores, on=\"store_id\", how=\"left\", suffixes=('', '_store'))"
   ]
  },
  {
   "cell_type": "code",
   "execution_count": 7,
   "id": "ee3cdde4",
   "metadata": {
    "execution": {
     "iopub.execute_input": "2025-01-14T11:26:31.556387Z",
     "iopub.status.busy": "2025-01-14T11:26:31.556000Z",
     "iopub.status.idle": "2025-01-14T11:26:32.197465Z",
     "shell.execute_reply": "2025-01-14T11:26:32.196309Z"
    },
    "papermill": {
     "duration": 0.651396,
     "end_time": "2025-01-14T11:26:32.199405",
     "exception": false,
     "start_time": "2025-01-14T11:26:31.548009",
     "status": "completed"
    },
    "tags": []
   },
   "outputs": [],
   "source": [
    "# Final merge with stores to add store-specific information and add suffix for store columns\n",
    "final_merged = pd.merge(sales_online_merged, stores, on=\"store_id\", how=\"left\", suffixes=('', '_store'))"
   ]
  },
  {
   "cell_type": "code",
   "execution_count": 8,
   "id": "73018e4f",
   "metadata": {
    "execution": {
     "iopub.execute_input": "2025-01-14T11:26:32.215458Z",
     "iopub.status.busy": "2025-01-14T11:26:32.215050Z",
     "iopub.status.idle": "2025-01-14T11:26:32.711768Z",
     "shell.execute_reply": "2025-01-14T11:26:32.710690Z"
    },
    "papermill": {
     "duration": 0.507031,
     "end_time": "2025-01-14T11:26:32.713888",
     "exception": false,
     "start_time": "2025-01-14T11:26:32.206857",
     "status": "completed"
    },
    "tags": []
   },
   "outputs": [
    {
     "data": {
      "text/plain": [
       "Unnamed: 0_offline         0.000000\n",
       "date_sales                 0.000000\n",
       "item_id                    0.000000\n",
       "quantity_offline           0.000000\n",
       "price_base_offline         0.000000\n",
       "sum_total_offline          0.000000\n",
       "store_id                   0.000000\n",
       "Unnamed: 0_online          0.000000\n",
       "quantity_online            0.000000\n",
       "price_base_online          0.000000\n",
       "sum_total_online           0.000000\n",
       "Unnamed: 0_x               0.998193\n",
       "normal_price               0.998193\n",
       "price_x                    0.998193\n",
       "quantity                   0.998193\n",
       "Unnamed: 0_y               0.957946\n",
       "price_y                    0.957946\n",
       "code                       0.957946\n",
       "Unnamed: 0_sales           0.732263\n",
       "sale_price_before_promo    0.732263\n",
       "sale_price_time_promo      0.732263\n",
       "promo_type_code            0.736472\n",
       "doc_id                     0.732263\n",
       "number_disc_day            0.732263\n",
       "Unnamed: 0_matrix          0.153054\n",
       "date_matrix                0.153054\n",
       "Unnamed: 0                 0.003460\n",
       "dept_name                  0.003460\n",
       "class_name                 0.003460\n",
       "subclass_name              0.003460\n",
       "item_type                  0.049190\n",
       "weight_volume              0.268734\n",
       "weight_netto               0.238220\n",
       "fatness                    0.859447\n",
       "Unnamed: 0_store           0.000000\n",
       "division                   0.000000\n",
       "format                     0.000000\n",
       "city                       0.000000\n",
       "area                       0.000000\n",
       "dtype: float64"
      ]
     },
     "execution_count": 8,
     "metadata": {},
     "output_type": "execute_result"
    }
   ],
   "source": [
    "final_merged.isnull().sum() / final_merged.shape[0]"
   ]
  },
  {
   "cell_type": "code",
   "execution_count": 9,
   "id": "88e7ff2a",
   "metadata": {
    "execution": {
     "iopub.execute_input": "2025-01-14T11:26:32.730117Z",
     "iopub.status.busy": "2025-01-14T11:26:32.729730Z",
     "iopub.status.idle": "2025-01-14T11:26:32.735817Z",
     "shell.execute_reply": "2025-01-14T11:26:32.734773Z"
    },
    "papermill": {
     "duration": 0.016102,
     "end_time": "2025-01-14T11:26:32.737434",
     "exception": false,
     "start_time": "2025-01-14T11:26:32.721332",
     "status": "completed"
    },
    "tags": []
   },
   "outputs": [
    {
     "data": {
      "text/plain": [
       "(911148, 39)"
      ]
     },
     "execution_count": 9,
     "metadata": {},
     "output_type": "execute_result"
    }
   ],
   "source": [
    "final_merged.shape"
   ]
  },
  {
   "cell_type": "markdown",
   "id": "54b138e0",
   "metadata": {
    "papermill": {
     "duration": 0.007445,
     "end_time": "2025-01-14T11:26:32.752842",
     "exception": false,
     "start_time": "2025-01-14T11:26:32.745397",
     "status": "completed"
    },
    "tags": []
   },
   "source": [
    "## drop coulmns with > 0.5% of missing data and irrelevant dataset"
   ]
  },
  {
   "cell_type": "code",
   "execution_count": 10,
   "id": "ddee6258",
   "metadata": {
    "execution": {
     "iopub.execute_input": "2025-01-14T11:26:32.769089Z",
     "iopub.status.busy": "2025-01-14T11:26:32.768714Z",
     "iopub.status.idle": "2025-01-14T11:26:32.775242Z",
     "shell.execute_reply": "2025-01-14T11:26:32.774085Z"
    },
    "papermill": {
     "duration": 0.016594,
     "end_time": "2025-01-14T11:26:32.777159",
     "exception": false,
     "start_time": "2025-01-14T11:26:32.760565",
     "status": "completed"
    },
    "tags": []
   },
   "outputs": [
    {
     "data": {
      "text/plain": [
       "Index(['Unnamed: 0_offline', 'date_sales', 'item_id', 'quantity_offline',\n",
       "       'price_base_offline', 'sum_total_offline', 'store_id',\n",
       "       'Unnamed: 0_online', 'quantity_online', 'price_base_online',\n",
       "       'sum_total_online', 'Unnamed: 0_x', 'normal_price', 'price_x',\n",
       "       'quantity', 'Unnamed: 0_y', 'price_y', 'code', 'Unnamed: 0_sales',\n",
       "       'sale_price_before_promo', 'sale_price_time_promo', 'promo_type_code',\n",
       "       'doc_id', 'number_disc_day', 'Unnamed: 0_matrix', 'date_matrix',\n",
       "       'Unnamed: 0', 'dept_name', 'class_name', 'subclass_name', 'item_type',\n",
       "       'weight_volume', 'weight_netto', 'fatness', 'Unnamed: 0_store',\n",
       "       'division', 'format', 'city', 'area'],\n",
       "      dtype='object')"
      ]
     },
     "execution_count": 10,
     "metadata": {},
     "output_type": "execute_result"
    }
   ],
   "source": [
    "final_merged.columns"
   ]
  },
  {
   "cell_type": "code",
   "execution_count": 11,
   "id": "61ef6070",
   "metadata": {
    "execution": {
     "iopub.execute_input": "2025-01-14T11:26:32.793531Z",
     "iopub.status.busy": "2025-01-14T11:26:32.793167Z",
     "iopub.status.idle": "2025-01-14T11:26:32.965986Z",
     "shell.execute_reply": "2025-01-14T11:26:32.964959Z"
    },
    "papermill": {
     "duration": 0.183056,
     "end_time": "2025-01-14T11:26:32.967939",
     "exception": false,
     "start_time": "2025-01-14T11:26:32.784883",
     "status": "completed"
    },
    "tags": []
   },
   "outputs": [],
   "source": [
    "# first remove the unnamed coulmn\n",
    "final_merged = final_merged.drop(columns=[\"Unnamed: 0_x\", \"Unnamed: 0\", \"Unnamed: 0_matrix\", 'Unnamed: 0_offline','Unnamed: 0_online', 'Unnamed: 0_y', 'Unnamed: 0_store', 'Unnamed: 0_sales'])"
   ]
  },
  {
   "cell_type": "code",
   "execution_count": 12,
   "id": "7796249c",
   "metadata": {
    "execution": {
     "iopub.execute_input": "2025-01-14T11:26:32.984446Z",
     "iopub.status.busy": "2025-01-14T11:26:32.984071Z",
     "iopub.status.idle": "2025-01-14T11:26:32.990223Z",
     "shell.execute_reply": "2025-01-14T11:26:32.989069Z"
    },
    "papermill": {
     "duration": 0.016277,
     "end_time": "2025-01-14T11:26:32.991920",
     "exception": false,
     "start_time": "2025-01-14T11:26:32.975643",
     "status": "completed"
    },
    "tags": []
   },
   "outputs": [
    {
     "data": {
      "text/plain": [
       "Index(['date_sales', 'item_id', 'quantity_offline', 'price_base_offline',\n",
       "       'sum_total_offline', 'store_id', 'quantity_online', 'price_base_online',\n",
       "       'sum_total_online', 'normal_price', 'price_x', 'quantity', 'price_y',\n",
       "       'code', 'sale_price_before_promo', 'sale_price_time_promo',\n",
       "       'promo_type_code', 'doc_id', 'number_disc_day', 'date_matrix',\n",
       "       'dept_name', 'class_name', 'subclass_name', 'item_type',\n",
       "       'weight_volume', 'weight_netto', 'fatness', 'division', 'format',\n",
       "       'city', 'area'],\n",
       "      dtype='object')"
      ]
     },
     "execution_count": 12,
     "metadata": {},
     "output_type": "execute_result"
    }
   ],
   "source": [
    "final_merged.columns"
   ]
  },
  {
   "cell_type": "code",
   "execution_count": 13,
   "id": "9170961e",
   "metadata": {
    "execution": {
     "iopub.execute_input": "2025-01-14T11:26:33.008469Z",
     "iopub.status.busy": "2025-01-14T11:26:33.008084Z",
     "iopub.status.idle": "2025-01-14T11:26:33.117126Z",
     "shell.execute_reply": "2025-01-14T11:26:33.116029Z"
    },
    "papermill": {
     "duration": 0.119762,
     "end_time": "2025-01-14T11:26:33.119316",
     "exception": false,
     "start_time": "2025-01-14T11:26:32.999554",
     "status": "completed"
    },
    "tags": []
   },
   "outputs": [],
   "source": [
    "# drop columns with > 50% missing values\n",
    "final_merged = final_merged.drop(columns=['normal_price', 'price_x', 'quantity', 'price_y',\n",
    "       'code', 'sale_price_before_promo', 'sale_price_time_promo',\n",
    "       'promo_type_code', 'doc_id', 'number_disc_day', \"fatness\"])"
   ]
  },
  {
   "cell_type": "code",
   "execution_count": 14,
   "id": "58a51e70",
   "metadata": {
    "execution": {
     "iopub.execute_input": "2025-01-14T11:26:33.136313Z",
     "iopub.status.busy": "2025-01-14T11:26:33.135938Z",
     "iopub.status.idle": "2025-01-14T11:26:33.576284Z",
     "shell.execute_reply": "2025-01-14T11:26:33.575052Z"
    },
    "papermill": {
     "duration": 0.4508,
     "end_time": "2025-01-14T11:26:33.578269",
     "exception": false,
     "start_time": "2025-01-14T11:26:33.127469",
     "status": "completed"
    },
    "tags": []
   },
   "outputs": [
    {
     "data": {
      "text/plain": [
       "date_sales            0.000000\n",
       "item_id               0.000000\n",
       "quantity_offline      0.000000\n",
       "price_base_offline    0.000000\n",
       "sum_total_offline     0.000000\n",
       "store_id              0.000000\n",
       "quantity_online       0.000000\n",
       "price_base_online     0.000000\n",
       "sum_total_online      0.000000\n",
       "date_matrix           0.153054\n",
       "dept_name             0.003460\n",
       "class_name            0.003460\n",
       "subclass_name         0.003460\n",
       "item_type             0.049190\n",
       "weight_volume         0.268734\n",
       "weight_netto          0.238220\n",
       "division              0.000000\n",
       "format                0.000000\n",
       "city                  0.000000\n",
       "area                  0.000000\n",
       "dtype: float64"
      ]
     },
     "execution_count": 14,
     "metadata": {},
     "output_type": "execute_result"
    }
   ],
   "source": [
    "final_merged.isnull().sum() / final_merged.shape[0]"
   ]
  },
  {
   "cell_type": "code",
   "execution_count": 15,
   "id": "68b9fd7a",
   "metadata": {
    "execution": {
     "iopub.execute_input": "2025-01-14T11:26:33.595092Z",
     "iopub.status.busy": "2025-01-14T11:26:33.594727Z",
     "iopub.status.idle": "2025-01-14T11:26:33.614611Z",
     "shell.execute_reply": "2025-01-14T11:26:33.613515Z"
    },
    "papermill": {
     "duration": 0.030339,
     "end_time": "2025-01-14T11:26:33.616535",
     "exception": false,
     "start_time": "2025-01-14T11:26:33.586196",
     "status": "completed"
    },
    "tags": []
   },
   "outputs": [
    {
     "data": {
      "text/html": [
       "<div>\n",
       "<style scoped>\n",
       "    .dataframe tbody tr th:only-of-type {\n",
       "        vertical-align: middle;\n",
       "    }\n",
       "\n",
       "    .dataframe tbody tr th {\n",
       "        vertical-align: top;\n",
       "    }\n",
       "\n",
       "    .dataframe thead th {\n",
       "        text-align: right;\n",
       "    }\n",
       "</style>\n",
       "<table border=\"1\" class=\"dataframe\">\n",
       "  <thead>\n",
       "    <tr style=\"text-align: right;\">\n",
       "      <th></th>\n",
       "      <th>date_sales</th>\n",
       "      <th>item_id</th>\n",
       "      <th>quantity_offline</th>\n",
       "      <th>price_base_offline</th>\n",
       "      <th>sum_total_offline</th>\n",
       "      <th>store_id</th>\n",
       "      <th>quantity_online</th>\n",
       "      <th>price_base_online</th>\n",
       "      <th>sum_total_online</th>\n",
       "      <th>date_matrix</th>\n",
       "      <th>dept_name</th>\n",
       "      <th>class_name</th>\n",
       "      <th>subclass_name</th>\n",
       "      <th>item_type</th>\n",
       "      <th>weight_volume</th>\n",
       "      <th>weight_netto</th>\n",
       "      <th>division</th>\n",
       "      <th>format</th>\n",
       "      <th>city</th>\n",
       "      <th>area</th>\n",
       "    </tr>\n",
       "  </thead>\n",
       "  <tbody>\n",
       "    <tr>\n",
       "      <th>911143</th>\n",
       "      <td>2024-09-26</td>\n",
       "      <td>3d0a6d1afe26</td>\n",
       "      <td>4.000</td>\n",
       "      <td>69.90</td>\n",
       "      <td>279.60</td>\n",
       "      <td>4</td>\n",
       "      <td>2.000</td>\n",
       "      <td>51.37</td>\n",
       "      <td>102.74</td>\n",
       "      <td>2024-06-07</td>\n",
       "      <td>КОНСЕРВЫ МОЛОЧНЫЕ</td>\n",
       "      <td>МОЛОКО СГУЩЕННОЕ</td>\n",
       "      <td>МОЛОКО СГУЩЕННОЕ</td>\n",
       "      <td>Молочные</td>\n",
       "      <td>0.27</td>\n",
       "      <td>0.27</td>\n",
       "      <td>Div1</td>\n",
       "      <td>MaxiEuro</td>\n",
       "      <td>City3</td>\n",
       "      <td>1887</td>\n",
       "    </tr>\n",
       "    <tr>\n",
       "      <th>911144</th>\n",
       "      <td>2024-09-26</td>\n",
       "      <td>a10577439fbb</td>\n",
       "      <td>18.757</td>\n",
       "      <td>129.28</td>\n",
       "      <td>2424.99</td>\n",
       "      <td>4</td>\n",
       "      <td>1.850</td>\n",
       "      <td>128.86</td>\n",
       "      <td>238.39</td>\n",
       "      <td>2024-08-07</td>\n",
       "      <td>ОВОЩИ</td>\n",
       "      <td>НЕКОРНЕПЛОДЫ</td>\n",
       "      <td>ТОМАТЫ</td>\n",
       "      <td>Томаты</td>\n",
       "      <td>NaN</td>\n",
       "      <td>NaN</td>\n",
       "      <td>Div1</td>\n",
       "      <td>MaxiEuro</td>\n",
       "      <td>City3</td>\n",
       "      <td>1887</td>\n",
       "    </tr>\n",
       "    <tr>\n",
       "      <th>911145</th>\n",
       "      <td>2024-09-26</td>\n",
       "      <td>13d4259b0f09</td>\n",
       "      <td>2.446</td>\n",
       "      <td>287.11</td>\n",
       "      <td>702.28</td>\n",
       "      <td>4</td>\n",
       "      <td>1.142</td>\n",
       "      <td>250.34</td>\n",
       "      <td>285.89</td>\n",
       "      <td>2024-05-22</td>\n",
       "      <td>ФРУКТЫ</td>\n",
       "      <td>БАНАНЫ</td>\n",
       "      <td>БАНАНЫ</td>\n",
       "      <td>Бананы</td>\n",
       "      <td>NaN</td>\n",
       "      <td>NaN</td>\n",
       "      <td>Div1</td>\n",
       "      <td>MaxiEuro</td>\n",
       "      <td>City3</td>\n",
       "      <td>1887</td>\n",
       "    </tr>\n",
       "    <tr>\n",
       "      <th>911146</th>\n",
       "      <td>2024-09-26</td>\n",
       "      <td>1361d3af14b2</td>\n",
       "      <td>0.538</td>\n",
       "      <td>209.89</td>\n",
       "      <td>112.92</td>\n",
       "      <td>4</td>\n",
       "      <td>0.512</td>\n",
       "      <td>166.56</td>\n",
       "      <td>85.28</td>\n",
       "      <td>2024-07-15</td>\n",
       "      <td>ФРУКТЫ</td>\n",
       "      <td>ГРУШИ</td>\n",
       "      <td>ГРУШИ</td>\n",
       "      <td>Груши</td>\n",
       "      <td>NaN</td>\n",
       "      <td>NaN</td>\n",
       "      <td>Div1</td>\n",
       "      <td>MaxiEuro</td>\n",
       "      <td>City3</td>\n",
       "      <td>1887</td>\n",
       "    </tr>\n",
       "    <tr>\n",
       "      <th>911147</th>\n",
       "      <td>2024-09-26</td>\n",
       "      <td>87b794255afc</td>\n",
       "      <td>6.000</td>\n",
       "      <td>499.90</td>\n",
       "      <td>2999.40</td>\n",
       "      <td>4</td>\n",
       "      <td>1.000</td>\n",
       "      <td>421.53</td>\n",
       "      <td>421.53</td>\n",
       "      <td>2023-12-13</td>\n",
       "      <td>КОФЕ</td>\n",
       "      <td>КОФЕ РАСТВОРИМЫЙ</td>\n",
       "      <td>СТ/Б</td>\n",
       "      <td>Кофе</td>\n",
       "      <td>0.19</td>\n",
       "      <td>0.19</td>\n",
       "      <td>Div1</td>\n",
       "      <td>MaxiEuro</td>\n",
       "      <td>City3</td>\n",
       "      <td>1887</td>\n",
       "    </tr>\n",
       "  </tbody>\n",
       "</table>\n",
       "</div>"
      ],
      "text/plain": [
       "        date_sales       item_id  quantity_offline  price_base_offline  \\\n",
       "911143  2024-09-26  3d0a6d1afe26             4.000               69.90   \n",
       "911144  2024-09-26  a10577439fbb            18.757              129.28   \n",
       "911145  2024-09-26  13d4259b0f09             2.446              287.11   \n",
       "911146  2024-09-26  1361d3af14b2             0.538              209.89   \n",
       "911147  2024-09-26  87b794255afc             6.000              499.90   \n",
       "\n",
       "        sum_total_offline  store_id  quantity_online  price_base_online  \\\n",
       "911143             279.60         4            2.000              51.37   \n",
       "911144            2424.99         4            1.850             128.86   \n",
       "911145             702.28         4            1.142             250.34   \n",
       "911146             112.92         4            0.512             166.56   \n",
       "911147            2999.40         4            1.000             421.53   \n",
       "\n",
       "        sum_total_online date_matrix          dept_name        class_name  \\\n",
       "911143            102.74  2024-06-07  КОНСЕРВЫ МОЛОЧНЫЕ  МОЛОКО СГУЩЕННОЕ   \n",
       "911144            238.39  2024-08-07              ОВОЩИ      НЕКОРНЕПЛОДЫ   \n",
       "911145            285.89  2024-05-22             ФРУКТЫ            БАНАНЫ   \n",
       "911146             85.28  2024-07-15             ФРУКТЫ             ГРУШИ   \n",
       "911147            421.53  2023-12-13               КОФЕ  КОФЕ РАСТВОРИМЫЙ   \n",
       "\n",
       "           subclass_name item_type  weight_volume  weight_netto division  \\\n",
       "911143  МОЛОКО СГУЩЕННОЕ  Молочные           0.27          0.27     Div1   \n",
       "911144            ТОМАТЫ    Томаты            NaN           NaN     Div1   \n",
       "911145            БАНАНЫ    Бананы            NaN           NaN     Div1   \n",
       "911146             ГРУШИ     Груши            NaN           NaN     Div1   \n",
       "911147              СТ/Б      Кофе           0.19          0.19     Div1   \n",
       "\n",
       "          format   city  area  \n",
       "911143  MaxiEuro  City3  1887  \n",
       "911144  MaxiEuro  City3  1887  \n",
       "911145  MaxiEuro  City3  1887  \n",
       "911146  MaxiEuro  City3  1887  \n",
       "911147  MaxiEuro  City3  1887  "
      ]
     },
     "execution_count": 15,
     "metadata": {},
     "output_type": "execute_result"
    }
   ],
   "source": [
    "final_merged.tail()"
   ]
  },
  {
   "cell_type": "markdown",
   "id": "093eee89",
   "metadata": {
    "papermill": {
     "duration": 0.007687,
     "end_time": "2025-01-14T11:26:33.632427",
     "exception": false,
     "start_time": "2025-01-14T11:26:33.624740",
     "status": "completed"
    },
    "tags": []
   },
   "source": [
    "## Create the target column"
   ]
  },
  {
   "cell_type": "code",
   "execution_count": 16,
   "id": "3f2bea36",
   "metadata": {
    "execution": {
     "iopub.execute_input": "2025-01-14T11:26:33.649818Z",
     "iopub.status.busy": "2025-01-14T11:26:33.649370Z",
     "iopub.status.idle": "2025-01-14T11:26:33.658043Z",
     "shell.execute_reply": "2025-01-14T11:26:33.657014Z"
    },
    "papermill": {
     "duration": 0.019506,
     "end_time": "2025-01-14T11:26:33.659978",
     "exception": false,
     "start_time": "2025-01-14T11:26:33.640472",
     "status": "completed"
    },
    "tags": []
   },
   "outputs": [],
   "source": [
    "# create a total quantity column which would be the y value\n",
    "final_merged[\"total_quantity\"] = final_merged[\"quantity_offline\"] + final_merged[\"quantity_online\"]"
   ]
  },
  {
   "cell_type": "markdown",
   "id": "61734d73",
   "metadata": {
    "papermill": {
     "duration": 0.007803,
     "end_time": "2025-01-14T11:26:33.676096",
     "exception": false,
     "start_time": "2025-01-14T11:26:33.668293",
     "status": "completed"
    },
    "tags": []
   },
   "source": [
    "### Split the dataset"
   ]
  },
  {
   "cell_type": "code",
   "execution_count": 17,
   "id": "1ad6f4c6",
   "metadata": {
    "execution": {
     "iopub.execute_input": "2025-01-14T11:26:33.693930Z",
     "iopub.status.busy": "2025-01-14T11:26:33.693419Z",
     "iopub.status.idle": "2025-01-14T11:26:33.988122Z",
     "shell.execute_reply": "2025-01-14T11:26:33.986968Z"
    },
    "papermill": {
     "duration": 0.30603,
     "end_time": "2025-01-14T11:26:33.990172",
     "exception": false,
     "start_time": "2025-01-14T11:26:33.684142",
     "status": "completed"
    },
    "tags": []
   },
   "outputs": [],
   "source": [
    "# Convert date column to datetime if it's not already\n",
    "final_merged[\"date\"] = pd.to_datetime(final_merged[\"date_sales\"])\n",
    "\n",
    "# Sort the data by date to ensure proper time order\n",
    "final_merged = final_merged.sort_values(by=\"date\")\n",
    "\n",
    "# Calculate the index for 80% of the data\n",
    "split_index = int(0.8 * len(final_merged))\n",
    "\n",
    "# Split into training and test sets\n",
    "train_set = final_merged.iloc[:split_index]\n",
    "test_set = final_merged.iloc[split_index:]"
   ]
  },
  {
   "cell_type": "code",
   "execution_count": 18,
   "id": "a7e36b1f",
   "metadata": {
    "execution": {
     "iopub.execute_input": "2025-01-14T11:26:34.008994Z",
     "iopub.status.busy": "2025-01-14T11:26:34.008423Z",
     "iopub.status.idle": "2025-01-14T11:26:35.419586Z",
     "shell.execute_reply": "2025-01-14T11:26:35.418286Z"
    },
    "papermill": {
     "duration": 1.422317,
     "end_time": "2025-01-14T11:26:35.421605",
     "exception": false,
     "start_time": "2025-01-14T11:26:33.999288",
     "status": "completed"
    },
    "tags": []
   },
   "outputs": [
    {
     "data": {
      "text/plain": [
       "(True, True)"
      ]
     },
     "execution_count": 18,
     "metadata": {},
     "output_type": "execute_result"
    }
   ],
   "source": [
    "train_set.duplicated().any(), test_set.duplicated().any()"
   ]
  },
  {
   "cell_type": "code",
   "execution_count": 19,
   "id": "0de535db",
   "metadata": {
    "execution": {
     "iopub.execute_input": "2025-01-14T11:26:35.439820Z",
     "iopub.status.busy": "2025-01-14T11:26:35.439297Z",
     "iopub.status.idle": "2025-01-14T11:26:35.445643Z",
     "shell.execute_reply": "2025-01-14T11:26:35.444620Z"
    },
    "papermill": {
     "duration": 0.01732,
     "end_time": "2025-01-14T11:26:35.447403",
     "exception": false,
     "start_time": "2025-01-14T11:26:35.430083",
     "status": "completed"
    },
    "tags": []
   },
   "outputs": [
    {
     "data": {
      "text/plain": [
       "((728918, 22), (182230, 22))"
      ]
     },
     "execution_count": 19,
     "metadata": {},
     "output_type": "execute_result"
    }
   ],
   "source": [
    "train_set.shape, test_set.shape"
   ]
  },
  {
   "cell_type": "code",
   "execution_count": 20,
   "id": "4801688b",
   "metadata": {
    "execution": {
     "iopub.execute_input": "2025-01-14T11:26:35.465632Z",
     "iopub.status.busy": "2025-01-14T11:26:35.465251Z",
     "iopub.status.idle": "2025-01-14T11:26:36.979370Z",
     "shell.execute_reply": "2025-01-14T11:26:36.978230Z"
    },
    "papermill": {
     "duration": 1.52538,
     "end_time": "2025-01-14T11:26:36.981442",
     "exception": false,
     "start_time": "2025-01-14T11:26:35.456062",
     "status": "completed"
    },
    "tags": []
   },
   "outputs": [],
   "source": [
    "# Remove duplicates from train_set\n",
    "train_set = train_set.drop_duplicates()\n",
    "\n",
    "# Remove duplicates from test_set\n",
    "test_set = test_set.drop_duplicates()"
   ]
  },
  {
   "cell_type": "code",
   "execution_count": 21,
   "id": "900b8112",
   "metadata": {
    "execution": {
     "iopub.execute_input": "2025-01-14T11:26:36.999986Z",
     "iopub.status.busy": "2025-01-14T11:26:36.999557Z",
     "iopub.status.idle": "2025-01-14T11:26:38.279888Z",
     "shell.execute_reply": "2025-01-14T11:26:38.278776Z"
    },
    "papermill": {
     "duration": 1.291388,
     "end_time": "2025-01-14T11:26:38.281606",
     "exception": false,
     "start_time": "2025-01-14T11:26:36.990218",
     "status": "completed"
    },
    "tags": []
   },
   "outputs": [
    {
     "data": {
      "text/plain": [
       "(False, False)"
      ]
     },
     "execution_count": 21,
     "metadata": {},
     "output_type": "execute_result"
    }
   ],
   "source": [
    "train_set.duplicated().any(), test_set.duplicated().any()"
   ]
  },
  {
   "cell_type": "code",
   "execution_count": 22,
   "id": "4fd079dd",
   "metadata": {
    "execution": {
     "iopub.execute_input": "2025-01-14T11:26:38.300035Z",
     "iopub.status.busy": "2025-01-14T11:26:38.299589Z",
     "iopub.status.idle": "2025-01-14T11:26:38.305624Z",
     "shell.execute_reply": "2025-01-14T11:26:38.304582Z"
    },
    "papermill": {
     "duration": 0.017031,
     "end_time": "2025-01-14T11:26:38.307293",
     "exception": false,
     "start_time": "2025-01-14T11:26:38.290262",
     "status": "completed"
    },
    "tags": []
   },
   "outputs": [
    {
     "data": {
      "text/plain": [
       "((724877, 22), (181726, 22))"
      ]
     },
     "execution_count": 22,
     "metadata": {},
     "output_type": "execute_result"
    }
   ],
   "source": [
    "train_set.shape, test_set.shape"
   ]
  },
  {
   "cell_type": "markdown",
   "id": "083d576f",
   "metadata": {
    "papermill": {
     "duration": 0.008615,
     "end_time": "2025-01-14T11:26:38.324611",
     "exception": false,
     "start_time": "2025-01-14T11:26:38.315996",
     "status": "completed"
    },
    "tags": []
   },
   "source": [
    "## Check the distribution of the target variable"
   ]
  },
  {
   "cell_type": "code",
   "execution_count": 23,
   "id": "939bc813",
   "metadata": {
    "execution": {
     "iopub.execute_input": "2025-01-14T11:26:38.342782Z",
     "iopub.status.busy": "2025-01-14T11:26:38.342388Z",
     "iopub.status.idle": "2025-01-14T11:26:38.708969Z",
     "shell.execute_reply": "2025-01-14T11:26:38.707524Z"
    },
    "papermill": {
     "duration": 0.377866,
     "end_time": "2025-01-14T11:26:38.710997",
     "exception": false,
     "start_time": "2025-01-14T11:26:38.333131",
     "status": "completed"
    },
    "tags": []
   },
   "outputs": [
    {
     "data": {
      "image/png": "[encoded data removed]",
      "text/plain": [
       "<Figure size 640x480 with 1 Axes>"
      ]
     },
     "metadata": {},
     "output_type": "display_data"
    }
   ],
   "source": [
    "# check the distribution of the target coulmn\n",
    "train_set[\"total_quantity\"].hist(bins=50)\n",
    "plt.title('Distribution of Total Quantity')\n",
    "plt.xlabel('Total Quantity')\n",
    "plt.ylabel('Frequency')\n",
    "plt.show()"
   ]
  },
  {
   "cell_type": "code",
   "execution_count": 24,
   "id": "3d8c5294",
   "metadata": {
    "execution": {
     "iopub.execute_input": "2025-01-14T11:26:38.730588Z",
     "iopub.status.busy": "2025-01-14T11:26:38.730223Z",
     "iopub.status.idle": "2025-01-14T11:26:38.881674Z",
     "shell.execute_reply": "2025-01-14T11:26:38.880466Z"
    },
    "papermill": {
     "duration": 0.16331,
     "end_time": "2025-01-14T11:26:38.883627",
     "exception": false,
     "start_time": "2025-01-14T11:26:38.720317",
     "status": "completed"
    },
    "tags": []
   },
   "outputs": [],
   "source": [
    "# Calculate Q1 (25th percentile) and Q3 (75th percentile)\n",
    "Q1 = train_set[\"total_quantity\"].quantile(0.25)\n",
    "Q3 = train_set[\"total_quantity\"].quantile(0.75)\n",
    "\n",
    "\n",
    "IQR = Q3 - Q1\n",
    "\n",
    "\n",
    "lower_bound = Q1 - 1.5 * IQR\n",
    "upper_bound = Q3 + 1.5 * IQR\n",
    "\n",
    "# Remove outliers\n",
    "train_set = train_set[(train_set[\"total_quantity\"] >= lower_bound) & \n",
    "                                     (train_set[\"total_quantity\"] <= upper_bound) &\n",
    "(train_set[\"total_quantity\"] >= 0)]"
   ]
  },
  {
   "cell_type": "code",
   "execution_count": 25,
   "id": "014b44dc",
   "metadata": {
    "execution": {
     "iopub.execute_input": "2025-01-14T11:26:38.903643Z",
     "iopub.status.busy": "2025-01-14T11:26:38.903277Z",
     "iopub.status.idle": "2025-01-14T11:26:39.149229Z",
     "shell.execute_reply": "2025-01-14T11:26:39.148110Z"
    },
    "papermill": {
     "duration": 0.257992,
     "end_time": "2025-01-14T11:26:39.151104",
     "exception": false,
     "start_time": "2025-01-14T11:26:38.893112",
     "status": "completed"
    },
    "tags": []
   },
   "outputs": [
    {
     "data": {
      "image/png": "[encoded data removed]",
      "text/plain": [
       "<Figure size 640x480 with 1 Axes>"
      ]
     },
     "metadata": {},
     "output_type": "display_data"
    }
   ],
   "source": [
    "train_set[\"total_quantity\"].hist(bins=10)\n",
    "plt.title('Distribution of Total Quantity')\n",
    "plt.xlabel('Total Quantity')\n",
    "plt.ylabel('Frequency')\n",
    "plt.show()"
   ]
  },
  {
   "cell_type": "code",
   "execution_count": 26,
   "id": "b36281e5",
   "metadata": {
    "execution": {
     "iopub.execute_input": "2025-01-14T11:26:39.173470Z",
     "iopub.status.busy": "2025-01-14T11:26:39.173065Z",
     "iopub.status.idle": "2025-01-14T11:26:39.420529Z",
     "shell.execute_reply": "2025-01-14T11:26:39.419442Z"
    },
    "papermill": {
     "duration": 0.2605,
     "end_time": "2025-01-14T11:26:39.422491",
     "exception": false,
     "start_time": "2025-01-14T11:26:39.161991",
     "status": "completed"
    },
    "tags": []
   },
   "outputs": [
    {
     "data": {
      "image/png": "[encoded data removed]",
      "text/plain": [
       "<Figure size 640x480 with 1 Axes>"
      ]
     },
     "metadata": {},
     "output_type": "display_data"
    }
   ],
   "source": [
    "# Apply log transformation (add 1 to avoid log(0) error)\n",
    "train_set[\"total_quantity\"] = np.log1p(train_set[\"total_quantity\"])\n",
    "\n",
    "# Plot histogram of transformed data (use the filtered dataset)\n",
    "train_set[\"total_quantity\"].hist(bins=10)\n",
    "plt.title('Distribution of Log-Transformed Total Quantity')\n",
    "plt.xlabel('Log(1 + Total Quantity)')\n",
    "plt.ylabel('Frequency')\n",
    "plt.show()"
   ]
  },
  {
   "cell_type": "markdown",
   "id": "3a209f23",
   "metadata": {
    "papermill": {
     "duration": 0.009887,
     "end_time": "2025-01-14T11:26:39.442915",
     "exception": false,
     "start_time": "2025-01-14T11:26:39.433028",
     "status": "completed"
    },
    "tags": []
   },
   "source": [
    "## EDA "
   ]
  },
  {
   "cell_type": "code",
   "execution_count": 27,
   "id": "094d7ea3",
   "metadata": {
    "execution": {
     "iopub.execute_input": "2025-01-14T11:26:39.465093Z",
     "iopub.status.busy": "2025-01-14T11:26:39.464677Z",
     "iopub.status.idle": "2025-01-14T11:26:39.877594Z",
     "shell.execute_reply": "2025-01-14T11:26:39.876500Z"
    },
    "papermill": {
     "duration": 0.426124,
     "end_time": "2025-01-14T11:26:39.879484",
     "exception": false,
     "start_time": "2025-01-14T11:26:39.453360",
     "status": "completed"
    },
    "tags": []
   },
   "outputs": [
    {
     "data": {
      "text/html": [
       "<div>\n",
       "<style scoped>\n",
       "    .dataframe tbody tr th:only-of-type {\n",
       "        vertical-align: middle;\n",
       "    }\n",
       "\n",
       "    .dataframe tbody tr th {\n",
       "        vertical-align: top;\n",
       "    }\n",
       "\n",
       "    .dataframe thead th {\n",
       "        text-align: right;\n",
       "    }\n",
       "</style>\n",
       "<table border=\"1\" class=\"dataframe\">\n",
       "  <thead>\n",
       "    <tr style=\"text-align: right;\">\n",
       "      <th></th>\n",
       "      <th>quantity_offline</th>\n",
       "      <th>price_base_offline</th>\n",
       "      <th>sum_total_offline</th>\n",
       "      <th>store_id</th>\n",
       "      <th>quantity_online</th>\n",
       "      <th>price_base_online</th>\n",
       "      <th>sum_total_online</th>\n",
       "      <th>weight_volume</th>\n",
       "      <th>weight_netto</th>\n",
       "      <th>area</th>\n",
       "      <th>total_quantity</th>\n",
       "      <th>date</th>\n",
       "    </tr>\n",
       "  </thead>\n",
       "  <tbody>\n",
       "    <tr>\n",
       "      <th>count</th>\n",
       "      <td>645282.000000</td>\n",
       "      <td>645282.000000</td>\n",
       "      <td>645282.000000</td>\n",
       "      <td>645282.000000</td>\n",
       "      <td>645282.000000</td>\n",
       "      <td>645282.000000</td>\n",
       "      <td>645282.000000</td>\n",
       "      <td>478705.000000</td>\n",
       "      <td>498180.000000</td>\n",
       "      <td>645282.000000</td>\n",
       "      <td>645282.000000</td>\n",
       "      <td>645282</td>\n",
       "    </tr>\n",
       "    <tr>\n",
       "      <th>mean</th>\n",
       "      <td>6.971199</td>\n",
       "      <td>211.383606</td>\n",
       "      <td>1200.799343</td>\n",
       "      <td>1.482338</td>\n",
       "      <td>1.804226</td>\n",
       "      <td>149.546757</td>\n",
       "      <td>194.983606</td>\n",
       "      <td>1.496791</td>\n",
       "      <td>0.423032</td>\n",
       "      <td>1562.221596</td>\n",
       "      <td>2.008856</td>\n",
       "      <td>2023-08-19 08:32:57.896175360</td>\n",
       "    </tr>\n",
       "    <tr>\n",
       "      <th>min</th>\n",
       "      <td>-2.000000</td>\n",
       "      <td>-1637.810000</td>\n",
       "      <td>-956.000000</td>\n",
       "      <td>1.000000</td>\n",
       "      <td>0.002000</td>\n",
       "      <td>-113.960000</td>\n",
       "      <td>-341.880000</td>\n",
       "      <td>0.000010</td>\n",
       "      <td>0.000000</td>\n",
       "      <td>1500.000000</td>\n",
       "      <td>0.000000</td>\n",
       "      <td>2022-08-28 00:00:00</td>\n",
       "    </tr>\n",
       "    <tr>\n",
       "      <th>25%</th>\n",
       "      <td>2.000000</td>\n",
       "      <td>59.900000</td>\n",
       "      <td>199.740000</td>\n",
       "      <td>1.000000</td>\n",
       "      <td>1.000000</td>\n",
       "      <td>42.940000</td>\n",
       "      <td>59.880000</td>\n",
       "      <td>0.130000</td>\n",
       "      <td>0.125000</td>\n",
       "      <td>1500.000000</td>\n",
       "      <td>1.386294</td>\n",
       "      <td>2023-02-17 00:00:00</td>\n",
       "    </tr>\n",
       "    <tr>\n",
       "      <th>50%</th>\n",
       "      <td>4.000000</td>\n",
       "      <td>109.000000</td>\n",
       "      <td>482.895000</td>\n",
       "      <td>1.000000</td>\n",
       "      <td>1.000000</td>\n",
       "      <td>76.060000</td>\n",
       "      <td>107.810000</td>\n",
       "      <td>0.280000</td>\n",
       "      <td>0.250000</td>\n",
       "      <td>1500.000000</td>\n",
       "      <td>1.945910</td>\n",
       "      <td>2023-09-11 00:00:00</td>\n",
       "    </tr>\n",
       "    <tr>\n",
       "      <th>75%</th>\n",
       "      <td>9.934000</td>\n",
       "      <td>229.900000</td>\n",
       "      <td>1229.507500</td>\n",
       "      <td>1.000000</td>\n",
       "      <td>2.000000</td>\n",
       "      <td>168.377500</td>\n",
       "      <td>213.000000</td>\n",
       "      <td>0.500000</td>\n",
       "      <td>0.450000</td>\n",
       "      <td>1500.000000</td>\n",
       "      <td>2.564949</td>\n",
       "      <td>2024-02-20 00:00:00</td>\n",
       "    </tr>\n",
       "    <tr>\n",
       "      <th>max</th>\n",
       "      <td>35.008000</td>\n",
       "      <td>7999.900000</td>\n",
       "      <td>100798.600000</td>\n",
       "      <td>4.000000</td>\n",
       "      <td>33.000000</td>\n",
       "      <td>7048.180000</td>\n",
       "      <td>15390.000000</td>\n",
       "      <td>300.000000</td>\n",
       "      <td>13.600000</td>\n",
       "      <td>1887.000000</td>\n",
       "      <td>3.590053</td>\n",
       "      <td>2024-06-06 00:00:00</td>\n",
       "    </tr>\n",
       "    <tr>\n",
       "      <th>std</th>\n",
       "      <td>7.037584</td>\n",
       "      <td>288.808753</td>\n",
       "      <td>2219.249237</td>\n",
       "      <td>1.101983</td>\n",
       "      <td>1.707535</td>\n",
       "      <td>209.274740</td>\n",
       "      <td>283.558732</td>\n",
       "      <td>9.479140</td>\n",
       "      <td>0.580401</td>\n",
       "      <td>142.155767</td>\n",
       "      <td>0.732063</td>\n",
       "      <td>NaN</td>\n",
       "    </tr>\n",
       "  </tbody>\n",
       "</table>\n",
       "</div>"
      ],
      "text/plain": [
       "       quantity_offline  price_base_offline  sum_total_offline       store_id  \\\n",
       "count     645282.000000       645282.000000      645282.000000  645282.000000   \n",
       "mean           6.971199          211.383606        1200.799343       1.482338   \n",
       "min           -2.000000        -1637.810000        -956.000000       1.000000   \n",
       "25%            2.000000           59.900000         199.740000       1.000000   \n",
       "50%            4.000000          109.000000         482.895000       1.000000   \n",
       "75%            9.934000          229.900000        1229.507500       1.000000   \n",
       "max           35.008000         7999.900000      100798.600000       4.000000   \n",
       "std            7.037584          288.808753        2219.249237       1.101983   \n",
       "\n",
       "       quantity_online  price_base_online  sum_total_online  weight_volume  \\\n",
       "count    645282.000000      645282.000000     645282.000000  478705.000000   \n",
       "mean          1.804226         149.546757        194.983606       1.496791   \n",
       "min           0.002000        -113.960000       -341.880000       0.000010   \n",
       "25%           1.000000          42.940000         59.880000       0.130000   \n",
       "50%           1.000000          76.060000        107.810000       0.280000   \n",
       "75%           2.000000         168.377500        213.000000       0.500000   \n",
       "max          33.000000        7048.180000      15390.000000     300.000000   \n",
       "std           1.707535         209.274740        283.558732       9.479140   \n",
       "\n",
       "        weight_netto           area  total_quantity  \\\n",
       "count  498180.000000  645282.000000   645282.000000   \n",
       "mean        0.423032    1562.221596        2.008856   \n",
       "min         0.000000    1500.000000        0.000000   \n",
       "25%         0.125000    1500.000000        1.386294   \n",
       "50%         0.250000    1500.000000        1.945910   \n",
       "75%         0.450000    1500.000000        2.564949   \n",
       "max        13.600000    1887.000000        3.590053   \n",
       "std         0.580401     142.155767        0.732063   \n",
       "\n",
       "                                date  \n",
       "count                         645282  \n",
       "mean   2023-08-19 08:32:57.896175360  \n",
       "min              2022-08-28 00:00:00  \n",
       "25%              2023-02-17 00:00:00  \n",
       "50%              2023-09-11 00:00:00  \n",
       "75%              2024-02-20 00:00:00  \n",
       "max              2024-06-06 00:00:00  \n",
       "std                              NaN  "
      ]
     },
     "execution_count": 27,
     "metadata": {},
     "output_type": "execute_result"
    }
   ],
   "source": [
    "train_set.describe()"
   ]
  },
  {
   "cell_type": "markdown",
   "id": "b47b6d48",
   "metadata": {
    "papermill": {
     "duration": 0.010386,
     "end_time": "2025-01-14T11:26:39.901072",
     "exception": false,
     "start_time": "2025-01-14T11:26:39.890686",
     "status": "completed"
    },
    "tags": []
   },
   "source": [
    "## There are some outliner in the dataset \n",
    "the quantity has negative value, same as price, sum_total"
   ]
  },
  {
   "cell_type": "code",
   "execution_count": 28,
   "id": "8cc936b6",
   "metadata": {
    "execution": {
     "iopub.execute_input": "2025-01-14T11:26:39.923868Z",
     "iopub.status.busy": "2025-01-14T11:26:39.923477Z",
     "iopub.status.idle": "2025-01-14T11:26:40.748217Z",
     "shell.execute_reply": "2025-01-14T11:26:40.747063Z"
    },
    "papermill": {
     "duration": 0.838277,
     "end_time": "2025-01-14T11:26:40.750199",
     "exception": false,
     "start_time": "2025-01-14T11:26:39.911922",
     "status": "completed"
    },
    "tags": []
   },
   "outputs": [],
   "source": [
    "# remove outliner from the dataset\n",
    "outliner_column = [\"quantity_offline\", \"price_base_offline\",\"sum_total_offline\", \"price_base_online\", \"sum_total_online\", \"total_quantity\"]\n",
    "\n",
    "for col in outliner_column:\n",
    "    # Calculate Q1 (25th percentile) and Q3 (75th percentile)\n",
    "    Q1 = train_set[col].quantile(0.25)\n",
    "    Q3 = train_set[col].quantile(0.75)\n",
    "    \n",
    "    \n",
    "    IQR = Q3 - Q1\n",
    "    \n",
    "    \n",
    "    lower_bound = Q1 - 1.5 * IQR\n",
    "    upper_bound = Q3 + 1.5 * IQR\n",
    "    \n",
    "    # Remove outliers\n",
    "    train_set = train_set[(train_set[col] >= lower_bound) & \n",
    "                                         (train_set[col] <= upper_bound) &\n",
    "    (train_set[col] >= 0)]"
   ]
  },
  {
   "cell_type": "markdown",
   "id": "73f90cbd",
   "metadata": {
    "papermill": {
     "duration": 0.010409,
     "end_time": "2025-01-14T11:26:40.771748",
     "exception": false,
     "start_time": "2025-01-14T11:26:40.761339",
     "status": "completed"
    },
    "tags": []
   },
   "source": [
    "### correlation between variables"
   ]
  },
  {
   "cell_type": "code",
   "execution_count": 29,
   "id": "d345210b",
   "metadata": {
    "execution": {
     "iopub.execute_input": "2025-01-14T11:26:40.794941Z",
     "iopub.status.busy": "2025-01-14T11:26:40.794500Z",
     "iopub.status.idle": "2025-01-14T11:26:40.969685Z",
     "shell.execute_reply": "2025-01-14T11:26:40.968773Z"
    },
    "papermill": {
     "duration": 0.188751,
     "end_time": "2025-01-14T11:26:40.971584",
     "exception": false,
     "start_time": "2025-01-14T11:26:40.782833",
     "status": "completed"
    },
    "tags": []
   },
   "outputs": [],
   "source": [
    "corrs = abs(train_set.select_dtypes(include='number').corr()['total_quantity']).sort_values(ascending = False)"
   ]
  },
  {
   "cell_type": "code",
   "execution_count": 30,
   "id": "a8ae87d3",
   "metadata": {
    "execution": {
     "iopub.execute_input": "2025-01-14T11:26:40.994293Z",
     "iopub.status.busy": "2025-01-14T11:26:40.993958Z",
     "iopub.status.idle": "2025-01-14T11:26:41.789014Z",
     "shell.execute_reply": "2025-01-14T11:26:41.787976Z"
    },
    "papermill": {
     "duration": 0.80984,
     "end_time": "2025-01-14T11:26:41.792264",
     "exception": false,
     "start_time": "2025-01-14T11:26:40.982424",
     "status": "completed"
    },
    "tags": []
   },
   "outputs": [
    {
     "data": {
      "image/png": "[encoded data removed]",
      "text/plain": [
       "<Figure size 1300x800 with 2 Axes>"
      ]
     },
     "metadata": {},
     "output_type": "display_data"
    }
   ],
   "source": [
    "corr = train_set[list(corrs.index)].corr()\n",
    "\n",
    "plt.figure(figsize = (13, 8))\n",
    "\n",
    "sns.heatmap(corr, cmap='RdYlGn', annot = True, center = 0)\n",
    "\n",
    "plt.title('Correlogram', fontsize = 15, color = 'darkgreen')\n",
    "\n",
    "plt.show()"
   ]
  },
  {
   "cell_type": "code",
   "execution_count": null,
   "id": "e580032b",
   "metadata": {
    "papermill": {
     "duration": 0.01351,
     "end_time": "2025-01-14T11:26:41.820339",
     "exception": false,
     "start_time": "2025-01-14T11:26:41.806829",
     "status": "completed"
    },
    "tags": []
   },
   "outputs": [],
   "source": []
  }
 ],
 "metadata": {
  "kaggle": {
   "accelerator": "none",
   "dataSources": [
    {
     "databundleVersionId": 10175212,
     "sourceId": 88022,
     "sourceType": "competition"
    }
   ],
   "dockerImageVersionId": 30822,
   "isGpuEnabled": false,
   "isInternetEnabled": true,
   "language": "python",
   "sourceType": "notebook"
  },
  "kernelspec": {
   "display_name": "Python 3",
   "language": "python",
   "name": "python3"
  },
  "language_info": {
   "codemirror_mode": {
    "name": "ipython",
    "version": 3
   },
   "file_extension": ".py",
   "mimetype": "text/x-python",
   "name": "python",
   "nbconvert_exporter": "python",
   "pygments_lexer": "ipython3",
   "version": "3.10.12"
  },
  "papermill": {
   "default_parameters": {},
   "duration": 47.206752,
   "end_time": "2025-01-14T11:26:42.756774",
   "environment_variables": {},
   "exception": null,
   "input_path": "__notebook__.ipynb",
   "output_path": "__notebook__.ipynb",
   "parameters": {},
   "start_time": "2025-01-14T11:25:55.550022",
   "version": "2.6.0"
  }
 },
 "nbformat": 4,
 "nbformat_minor": 5
}
